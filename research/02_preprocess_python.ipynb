{
 "cells": [
  {
   "cell_type": "code",
   "execution_count": 1,
   "metadata": {},
   "outputs": [],
   "source": [
    "import os"
   ]
  },
  {
   "cell_type": "code",
   "execution_count": 2,
   "metadata": {},
   "outputs": [
    {
     "data": {
      "text/plain": [
       "'d:\\\\GUVI Machine Learning BootCamp\\\\Final Project\\\\smartphone_customer_review_sentiment_analyzer_app\\\\research'"
      ]
     },
     "execution_count": 2,
     "metadata": {},
     "output_type": "execute_result"
    }
   ],
   "source": [
    "%pwd"
   ]
  },
  {
   "cell_type": "code",
   "execution_count": 3,
   "metadata": {},
   "outputs": [],
   "source": [
    "os.chdir(\"../\")"
   ]
  },
  {
   "cell_type": "code",
   "execution_count": 4,
   "metadata": {},
   "outputs": [
    {
     "data": {
      "text/plain": [
       "'d:\\\\GUVI Machine Learning BootCamp\\\\Final Project\\\\smartphone_customer_review_sentiment_analyzer_app'"
      ]
     },
     "execution_count": 4,
     "metadata": {},
     "output_type": "execute_result"
    }
   ],
   "source": [
    "%pwd"
   ]
  },
  {
   "cell_type": "code",
   "execution_count": 5,
   "metadata": {},
   "outputs": [],
   "source": [
    "import pandas as pd\n",
    "import numpy as np\n",
    "import matplotlib.pyplot as plt\n",
    "import seaborn as sns\n",
    "\n",
    "plt.style.use('ggplot')\n",
    "\n",
    "import nltk\n"
   ]
  },
  {
   "cell_type": "code",
   "execution_count": 6,
   "metadata": {},
   "outputs": [],
   "source": [
    "df = pd.read_csv(r\"artifacts\\data_ingestion\\mobile_phone_data.csv\")"
   ]
  },
  {
   "cell_type": "code",
   "execution_count": 7,
   "metadata": {},
   "outputs": [
    {
     "name": "stdout",
     "output_type": "stream",
     "text": [
      "(23777, 5)\n"
     ]
    }
   ],
   "source": [
    "print(df.shape)"
   ]
  },
  {
   "cell_type": "code",
   "execution_count": 8,
   "metadata": {},
   "outputs": [
    {
     "name": "stdout",
     "output_type": "stream",
     "text": [
      "['OnePlus Nord CE 2 5G (Gray Mirror, 8GB RAM, 128GB Storage)'\n",
      " 'OPPO A31 (Mystery Black, 6GB RAM, 128GB Storage)'\n",
      " 'realme narzo 50A (Oxygen Blue , 4GB RAM + 64 GB Storage)'\n",
      " 'Redmi 10 Prime (Bifrost Blue 4GB RAM 64GB ROM'\n",
      " 'Redmi 9 Activ (Carbon Black, 4GB RAM, 64GB Storage)'\n",
      " 'Redmi Note 11 (Space Black, 4GB RAM, 64GB Storage)' 'Samsung Galaxy M32'\n",
      " 'vivo iQOO Z6 5G (Chromatic Blue, 6GB RAM, 128GB Storage)']\n"
     ]
    }
   ],
   "source": [
    "phone_names = df[\"Product Name\"].unique()\n",
    "print(phone_names)"
   ]
  },
  {
   "cell_type": "code",
   "execution_count": 9,
   "metadata": {},
   "outputs": [
    {
     "data": {
      "text/plain": [
       "'The media could not be loaded.\\n                \\n\\n\\n\\n\\xa0All good but 📷 camera not improved'"
      ]
     },
     "execution_count": 9,
     "metadata": {},
     "output_type": "execute_result"
    }
   ],
   "source": [
    "df[\"Review-Body\"][44]"
   ]
  },
  {
   "cell_type": "code",
   "execution_count": 10,
   "metadata": {},
   "outputs": [
    {
     "name": "stderr",
     "output_type": "stream",
     "text": [
      "C:\\Users\\Naveen\\AppData\\Local\\Temp\\ipykernel_10012\\461809476.py:8: FutureWarning: The demoji.download_codes attribute is deprecated and will be removed from demoji in a future version. It is an unused attribute as emoji codes are now distributed directly with the demoji package.\n",
      "  demoji.download_codes()\n"
     ]
    }
   ],
   "source": [
    "import demoji\n",
    "\n",
    "# Install and import demoji\n",
    "# pip install demoji\n",
    "import demoji\n",
    "\n",
    "# Download emoji data\n",
    "demoji.download_codes()"
   ]
  },
  {
   "cell_type": "code",
   "execution_count": 11,
   "metadata": {},
   "outputs": [
    {
     "data": {
      "text/html": [
       "<div>\n",
       "<style scoped>\n",
       "    .dataframe tbody tr th:only-of-type {\n",
       "        vertical-align: middle;\n",
       "    }\n",
       "\n",
       "    .dataframe tbody tr th {\n",
       "        vertical-align: top;\n",
       "    }\n",
       "\n",
       "    .dataframe thead th {\n",
       "        text-align: right;\n",
       "    }\n",
       "</style>\n",
       "<table border=\"1\" class=\"dataframe\">\n",
       "  <thead>\n",
       "    <tr style=\"text-align: right;\">\n",
       "      <th></th>\n",
       "      <th>Unnamed: 0</th>\n",
       "      <th>Review-Title</th>\n",
       "      <th>rating</th>\n",
       "      <th>Review-Body</th>\n",
       "      <th>Product Name</th>\n",
       "    </tr>\n",
       "  </thead>\n",
       "  <tbody>\n",
       "    <tr>\n",
       "      <th>0</th>\n",
       "      <td>0</td>\n",
       "      <td>Worst phone ever</td>\n",
       "      <td>1.0 out of 5 stars</td>\n",
       "      <td>Hang problem</td>\n",
       "      <td>OnePlus Nord CE 2 5G (Gray Mirror, 8GB RAM, 12...</td>\n",
       "    </tr>\n",
       "    <tr>\n",
       "      <th>1</th>\n",
       "      <td>1</td>\n",
       "      <td>Ok !!! Not up to the mark</td>\n",
       "      <td>2.0 out of 5 stars</td>\n",
       "      <td>I'm writing this review after using 3days !!!B...</td>\n",
       "      <td>OnePlus Nord CE 2 5G (Gray Mirror, 8GB RAM, 12...</td>\n",
       "    </tr>\n",
       "    <tr>\n",
       "      <th>2</th>\n",
       "      <td>2</td>\n",
       "      <td>Awesome look</td>\n",
       "      <td>5.0 out of 5 stars</td>\n",
       "      <td>Camera is so good n very fast phone back look ...</td>\n",
       "      <td>OnePlus Nord CE 2 5G (Gray Mirror, 8GB RAM, 12...</td>\n",
       "    </tr>\n",
       "    <tr>\n",
       "      <th>3</th>\n",
       "      <td>3</td>\n",
       "      <td>One plus losing is originality!!!</td>\n",
       "      <td>3.0 out of 5 stars</td>\n",
       "      <td>The media could not be loaded.\\n              ...</td>\n",
       "      <td>OnePlus Nord CE 2 5G (Gray Mirror, 8GB RAM, 12...</td>\n",
       "    </tr>\n",
       "    <tr>\n",
       "      <th>4</th>\n",
       "      <td>4</td>\n",
       "      <td>Read</td>\n",
       "      <td>1.0 out of 5 stars</td>\n",
       "      <td>I got my delivery on 23 feb when I unboxed the...</td>\n",
       "      <td>OnePlus Nord CE 2 5G (Gray Mirror, 8GB RAM, 12...</td>\n",
       "    </tr>\n",
       "  </tbody>\n",
       "</table>\n",
       "</div>"
      ],
      "text/plain": [
       "   Unnamed: 0                       Review-Title              rating  \\\n",
       "0           0                   Worst phone ever  1.0 out of 5 stars   \n",
       "1           1          Ok !!! Not up to the mark  2.0 out of 5 stars   \n",
       "2           2                       Awesome look  5.0 out of 5 stars   \n",
       "3           3  One plus losing is originality!!!  3.0 out of 5 stars   \n",
       "4           4                               Read  1.0 out of 5 stars   \n",
       "\n",
       "                                         Review-Body  \\\n",
       "0                                       Hang problem   \n",
       "1  I'm writing this review after using 3days !!!B...   \n",
       "2  Camera is so good n very fast phone back look ...   \n",
       "3  The media could not be loaded.\\n              ...   \n",
       "4  I got my delivery on 23 feb when I unboxed the...   \n",
       "\n",
       "                                        Product Name  \n",
       "0  OnePlus Nord CE 2 5G (Gray Mirror, 8GB RAM, 12...  \n",
       "1  OnePlus Nord CE 2 5G (Gray Mirror, 8GB RAM, 12...  \n",
       "2  OnePlus Nord CE 2 5G (Gray Mirror, 8GB RAM, 12...  \n",
       "3  OnePlus Nord CE 2 5G (Gray Mirror, 8GB RAM, 12...  \n",
       "4  OnePlus Nord CE 2 5G (Gray Mirror, 8GB RAM, 12...  "
      ]
     },
     "execution_count": 11,
     "metadata": {},
     "output_type": "execute_result"
    }
   ],
   "source": [
    "def remove_emojis(text):\n",
    "    return demoji.replace_with_desc(str(text), sep=' ')\n",
    "\n",
    "# Apply the function to the 'Review-Body' column\n",
    "df['Review-Body'] = df['Review-Body'].apply(remove_emojis)\n",
    "\n",
    "# Display the resulting DataFrame\n",
    "df.head()"
   ]
  },
  {
   "cell_type": "code",
   "execution_count": 13,
   "metadata": {},
   "outputs": [
    {
     "data": {
      "text/html": [
       "<div>\n",
       "<style scoped>\n",
       "    .dataframe tbody tr th:only-of-type {\n",
       "        vertical-align: middle;\n",
       "    }\n",
       "\n",
       "    .dataframe tbody tr th {\n",
       "        vertical-align: top;\n",
       "    }\n",
       "\n",
       "    .dataframe thead th {\n",
       "        text-align: right;\n",
       "    }\n",
       "</style>\n",
       "<table border=\"1\" class=\"dataframe\">\n",
       "  <thead>\n",
       "    <tr style=\"text-align: right;\">\n",
       "      <th></th>\n",
       "      <th>Unnamed: 0</th>\n",
       "      <th>Review-Title</th>\n",
       "      <th>rating</th>\n",
       "      <th>Review-Body</th>\n",
       "      <th>Product Name</th>\n",
       "    </tr>\n",
       "  </thead>\n",
       "  <tbody>\n",
       "    <tr>\n",
       "      <th>0</th>\n",
       "      <td>0</td>\n",
       "      <td>Worst phone ever</td>\n",
       "      <td>1.0 out of 5 stars</td>\n",
       "      <td>Hang problem</td>\n",
       "      <td>OnePlus Nord CE 2 5G (Gray Mirror, 8GB RAM, 12...</td>\n",
       "    </tr>\n",
       "    <tr>\n",
       "      <th>1</th>\n",
       "      <td>1</td>\n",
       "      <td>Ok !!! Not up to the mark</td>\n",
       "      <td>2.0 out of 5 stars</td>\n",
       "      <td>I'm writing this review after using 3days !!!B...</td>\n",
       "      <td>OnePlus Nord CE 2 5G (Gray Mirror, 8GB RAM, 12...</td>\n",
       "    </tr>\n",
       "    <tr>\n",
       "      <th>2</th>\n",
       "      <td>2</td>\n",
       "      <td>Awesome look</td>\n",
       "      <td>5.0 out of 5 stars</td>\n",
       "      <td>Camera is so good n very fast phone back look ...</td>\n",
       "      <td>OnePlus Nord CE 2 5G (Gray Mirror, 8GB RAM, 12...</td>\n",
       "    </tr>\n",
       "    <tr>\n",
       "      <th>3</th>\n",
       "      <td>3</td>\n",
       "      <td>One plus losing is originality!!!</td>\n",
       "      <td>3.0 out of 5 stars</td>\n",
       "      <td>The media could not be loaded. It’s A average ...</td>\n",
       "      <td>OnePlus Nord CE 2 5G (Gray Mirror, 8GB RAM, 12...</td>\n",
       "    </tr>\n",
       "    <tr>\n",
       "      <th>4</th>\n",
       "      <td>4</td>\n",
       "      <td>Read</td>\n",
       "      <td>1.0 out of 5 stars</td>\n",
       "      <td>I got my delivery on 23 feb when I unboxed the...</td>\n",
       "      <td>OnePlus Nord CE 2 5G (Gray Mirror, 8GB RAM, 12...</td>\n",
       "    </tr>\n",
       "  </tbody>\n",
       "</table>\n",
       "</div>"
      ],
      "text/plain": [
       "   Unnamed: 0                       Review-Title              rating  \\\n",
       "0           0                   Worst phone ever  1.0 out of 5 stars   \n",
       "1           1          Ok !!! Not up to the mark  2.0 out of 5 stars   \n",
       "2           2                       Awesome look  5.0 out of 5 stars   \n",
       "3           3  One plus losing is originality!!!  3.0 out of 5 stars   \n",
       "4           4                               Read  1.0 out of 5 stars   \n",
       "\n",
       "                                         Review-Body  \\\n",
       "0                                       Hang problem   \n",
       "1  I'm writing this review after using 3days !!!B...   \n",
       "2  Camera is so good n very fast phone back look ...   \n",
       "3  The media could not be loaded. It’s A average ...   \n",
       "4  I got my delivery on 23 feb when I unboxed the...   \n",
       "\n",
       "                                        Product Name  \n",
       "0  OnePlus Nord CE 2 5G (Gray Mirror, 8GB RAM, 12...  \n",
       "1  OnePlus Nord CE 2 5G (Gray Mirror, 8GB RAM, 12...  \n",
       "2  OnePlus Nord CE 2 5G (Gray Mirror, 8GB RAM, 12...  \n",
       "3  OnePlus Nord CE 2 5G (Gray Mirror, 8GB RAM, 12...  \n",
       "4  OnePlus Nord CE 2 5G (Gray Mirror, 8GB RAM, 12...  "
      ]
     },
     "execution_count": 13,
     "metadata": {},
     "output_type": "execute_result"
    }
   ],
   "source": [
    "remove_newspace = lambda x: ' '.join(x.replace('\\n', ' ').split())\n",
    "\n",
    "# Apply the lambda function to the \"Review\" column\n",
    "df[\"Review-Body\"] = df[\"Review-Body\"].apply(remove_newspace)\n",
    "\n",
    "# Print the updated DataFrame\n",
    "df.head()"
   ]
  },
  {
   "cell_type": "code",
   "execution_count": 14,
   "metadata": {},
   "outputs": [
    {
     "data": {
      "text/plain": [
       "'The media could not be loaded. All good but camera camera not improved'"
      ]
     },
     "execution_count": 14,
     "metadata": {},
     "output_type": "execute_result"
    }
   ],
   "source": [
    "df[\"Review-Body\"][44]"
   ]
  },
  {
   "cell_type": "code",
   "execution_count": 17,
   "metadata": {},
   "outputs": [],
   "source": [
    "df[\"rating_num\"] = df[\"rating\"].apply(lambda x: float(x.split()[0]))"
   ]
  },
  {
   "cell_type": "code",
   "execution_count": 19,
   "metadata": {},
   "outputs": [],
   "source": [
    "df = df.drop(df.columns[0], axis=1)"
   ]
  },
  {
   "cell_type": "code",
   "execution_count": 20,
   "metadata": {},
   "outputs": [
    {
     "data": {
      "text/html": [
       "<div>\n",
       "<style scoped>\n",
       "    .dataframe tbody tr th:only-of-type {\n",
       "        vertical-align: middle;\n",
       "    }\n",
       "\n",
       "    .dataframe tbody tr th {\n",
       "        vertical-align: top;\n",
       "    }\n",
       "\n",
       "    .dataframe thead th {\n",
       "        text-align: right;\n",
       "    }\n",
       "</style>\n",
       "<table border=\"1\" class=\"dataframe\">\n",
       "  <thead>\n",
       "    <tr style=\"text-align: right;\">\n",
       "      <th></th>\n",
       "      <th>Id</th>\n",
       "      <th>Review-Title</th>\n",
       "      <th>rating</th>\n",
       "      <th>Review-Body</th>\n",
       "      <th>Product Name</th>\n",
       "      <th>rating_num</th>\n",
       "    </tr>\n",
       "  </thead>\n",
       "  <tbody>\n",
       "    <tr>\n",
       "      <th>0</th>\n",
       "      <td>1</td>\n",
       "      <td>Worst phone ever</td>\n",
       "      <td>1.0 out of 5 stars</td>\n",
       "      <td>Hang problem</td>\n",
       "      <td>OnePlus Nord CE 2 5G (Gray Mirror, 8GB RAM, 12...</td>\n",
       "      <td>1.0</td>\n",
       "    </tr>\n",
       "    <tr>\n",
       "      <th>1</th>\n",
       "      <td>2</td>\n",
       "      <td>Ok !!! Not up to the mark</td>\n",
       "      <td>2.0 out of 5 stars</td>\n",
       "      <td>I'm writing this review after using 3days !!!B...</td>\n",
       "      <td>OnePlus Nord CE 2 5G (Gray Mirror, 8GB RAM, 12...</td>\n",
       "      <td>2.0</td>\n",
       "    </tr>\n",
       "    <tr>\n",
       "      <th>2</th>\n",
       "      <td>3</td>\n",
       "      <td>Awesome look</td>\n",
       "      <td>5.0 out of 5 stars</td>\n",
       "      <td>Camera is so good n very fast phone back look ...</td>\n",
       "      <td>OnePlus Nord CE 2 5G (Gray Mirror, 8GB RAM, 12...</td>\n",
       "      <td>5.0</td>\n",
       "    </tr>\n",
       "    <tr>\n",
       "      <th>3</th>\n",
       "      <td>4</td>\n",
       "      <td>One plus losing is originality!!!</td>\n",
       "      <td>3.0 out of 5 stars</td>\n",
       "      <td>The media could not be loaded. It’s A average ...</td>\n",
       "      <td>OnePlus Nord CE 2 5G (Gray Mirror, 8GB RAM, 12...</td>\n",
       "      <td>3.0</td>\n",
       "    </tr>\n",
       "    <tr>\n",
       "      <th>4</th>\n",
       "      <td>5</td>\n",
       "      <td>Read</td>\n",
       "      <td>1.0 out of 5 stars</td>\n",
       "      <td>I got my delivery on 23 feb when I unboxed the...</td>\n",
       "      <td>OnePlus Nord CE 2 5G (Gray Mirror, 8GB RAM, 12...</td>\n",
       "      <td>1.0</td>\n",
       "    </tr>\n",
       "  </tbody>\n",
       "</table>\n",
       "</div>"
      ],
      "text/plain": [
       "   Id                       Review-Title              rating  \\\n",
       "0   1                   Worst phone ever  1.0 out of 5 stars   \n",
       "1   2          Ok !!! Not up to the mark  2.0 out of 5 stars   \n",
       "2   3                       Awesome look  5.0 out of 5 stars   \n",
       "3   4  One plus losing is originality!!!  3.0 out of 5 stars   \n",
       "4   5                               Read  1.0 out of 5 stars   \n",
       "\n",
       "                                         Review-Body  \\\n",
       "0                                       Hang problem   \n",
       "1  I'm writing this review after using 3days !!!B...   \n",
       "2  Camera is so good n very fast phone back look ...   \n",
       "3  The media could not be loaded. It’s A average ...   \n",
       "4  I got my delivery on 23 feb when I unboxed the...   \n",
       "\n",
       "                                        Product Name  rating_num  \n",
       "0  OnePlus Nord CE 2 5G (Gray Mirror, 8GB RAM, 12...         1.0  \n",
       "1  OnePlus Nord CE 2 5G (Gray Mirror, 8GB RAM, 12...         2.0  \n",
       "2  OnePlus Nord CE 2 5G (Gray Mirror, 8GB RAM, 12...         5.0  \n",
       "3  OnePlus Nord CE 2 5G (Gray Mirror, 8GB RAM, 12...         3.0  \n",
       "4  OnePlus Nord CE 2 5G (Gray Mirror, 8GB RAM, 12...         1.0  "
      ]
     },
     "execution_count": 20,
     "metadata": {},
     "output_type": "execute_result"
    }
   ],
   "source": [
    "df.insert(0, 'Id', range(1, 1 + len(df)))\n",
    "df.head()"
   ]
  },
  {
   "cell_type": "code",
   "execution_count": 21,
   "metadata": {},
   "outputs": [],
   "source": [
    "df.to_csv(\"artifacts\\data_transformation\\customer_review_data_.csv\")"
   ]
  },
  {
   "cell_type": "code",
   "execution_count": 15,
   "metadata": {},
   "outputs": [],
   "source": [
    "import googletrans"
   ]
  },
  {
   "cell_type": "code",
   "execution_count": 23,
   "metadata": {},
   "outputs": [],
   "source": [
    "translator = googletrans.Translator()\n",
    "\n",
    "def translate_review(text, dest='en'):\n",
    "    text = str(text)\n",
    "    try:\n",
    "        translation = translator.translate(text, dest=dest)\n",
    "        return translation.text\n",
    "    except AttributeError:\n",
    "        print('Error retrieving translation token. Please try again later.')\n",
    "    return None"
   ]
  },
  {
   "cell_type": "code",
   "execution_count": null,
   "metadata": {},
   "outputs": [],
   "source": []
  },
  {
   "cell_type": "code",
   "execution_count": 24,
   "metadata": {},
   "outputs": [],
   "source": [
    "def detect_lang_run(input_text):\n",
    "    detected = translator.detect(input_text)\n",
    "    count = 0\n",
    "    if detected.lang != \"en\":\n",
    "\n",
    "        if isinstance(detected.confidence, list) and detected.confidence[0] < 1:\n",
    "            input_text = translate_review(input_text)\n",
    "            count += 1\n",
    "    return input_text"
   ]
  },
  {
   "cell_type": "code",
   "execution_count": 28,
   "metadata": {},
   "outputs": [
    {
     "name": "stdout",
     "output_type": "stream",
     "text": [
      "done\n"
     ]
    }
   ],
   "source": [
    "df['Review-Body'] = df['Review-Body'].apply(detect_lang_run)\n",
    "print(\"done\")"
   ]
  },
  {
   "cell_type": "code",
   "execution_count": null,
   "metadata": {},
   "outputs": [],
   "source": [
    "df.to_csv(\"artifacts\\data_transformation\\customer_review_data_translated.csv\")"
   ]
  },
  {
   "cell_type": "code",
   "execution_count": null,
   "metadata": {},
   "outputs": [],
   "source": [
    "from transformers import AutoTokenizer\n",
    "from transformers import AutoModelForSequenceClassification\n",
    "from scipy.special import softmax\n",
    "import torch\n"
   ]
  },
  {
   "cell_type": "code",
   "execution_count": null,
   "metadata": {},
   "outputs": [],
   "source": [
    "# MODEL = f\"cardiffnlp/twitter-roberta-base-sentiment\"\n",
    "PATH = r\"D:\\HF_CACHE_MODELS_DATA\\cardiffnlp_twitter_roberta_base_sentiment\\\\\"\n",
    "tokenizer = AutoTokenizer.from_pretrained(PATH, local_files_only = True)\n",
    "model = AutoModelForSequenceClassification.from_pretrained(PATH, local_files_only = True)"
   ]
  },
  {
   "cell_type": "code",
   "execution_count": null,
   "metadata": {},
   "outputs": [],
   "source": []
  },
  {
   "cell_type": "code",
   "execution_count": null,
   "metadata": {},
   "outputs": [],
   "source": []
  },
  {
   "cell_type": "code",
   "execution_count": null,
   "metadata": {},
   "outputs": [],
   "source": [
    "def polarity_score_roberta(example):\n",
    "    encoded_text = tokenizer(example, return_tensors='pt', truncation=True, max_length=514)\n",
    "    output = model(**encoded_text)\n",
    "    scores = output[0][0].detach().numpy()\n",
    "    scores = torch.as_tensor(scores)\n",
    "    scores = softmax(scores)\n",
    "    scores = scores.view(-1)\n",
    "    sentiment = torch.argmax(scores)\n",
    "    # Convert the argmax value to a polarity score of 1, 2, or 3.\n",
    "    if sentiment == 0:\n",
    "        return 3  # Negative\n",
    "    elif sentiment == 1:\n",
    "        return 2  # Neutral\n",
    "    else:\n",
    "        return 1  # Positive"
   ]
  },
  {
   "cell_type": "code",
   "execution_count": null,
   "metadata": {},
   "outputs": [],
   "source": [
    "def set_polarity(tweet):\n",
    "    flag = 0 \n",
    "    if isinstance(tweet, str):\n",
    "        flag = polarity_score_roberta(tweet)\n",
    "    return flag"
   ]
  },
  {
   "cell_type": "code",
   "execution_count": null,
   "metadata": {},
   "outputs": [],
   "source": [
    "from tqdm import tqdm\n",
    "def identify_subject_set_polarity(tweet, refs):\n",
    "    flag = 0 \n",
    "    for ref in refs:\n",
    "        if isinstance(tweet, str) and tweet.find(ref) != -1:\n",
    "            tweet_split = tweet.split(\".\")\n",
    "            for sentence in tweet_split:\n",
    "                if isinstance(sentence, str) and sentence.find(ref) != -1:\n",
    "                    flag = polarity_score_roberta(sentence)\n",
    "    return flag\n",
    "    \n",
    "tqdm.pandas()\n",
    "df = df.head(100)\n",
    "\n",
    "df['battery_sentiment'] = df['Review-Body'].progress_apply(lambda x: identify_subject_set_polarity(x, battery)) \n",
    "df['performance_sentiment'] = df['Review-Body'].progress_apply(lambda x: identify_subject_set_polarity(x, performance))\n",
    "df['display_sentiment'] = df['Review-Body'].progress_apply(lambda x: identify_subject_set_polarity(x, display))\n",
    "df['camera_sentiment'] = df['Review-Body'].progress_apply(lambda x: identify_subject_set_polarity(x, camera))\n",
    "df['overall'] = df['Review-Body'].progress_apply(lambda x: set_polarity(x))\n",
    "df.head(10)"
   ]
  },
  {
   "cell_type": "code",
   "execution_count": null,
   "metadata": {},
   "outputs": [],
   "source": []
  },
  {
   "cell_type": "code",
   "execution_count": null,
   "metadata": {},
   "outputs": [],
   "source": []
  },
  {
   "cell_type": "code",
   "execution_count": null,
   "metadata": {},
   "outputs": [],
   "source": []
  },
  {
   "cell_type": "code",
   "execution_count": null,
   "metadata": {},
   "outputs": [],
   "source": []
  }
 ],
 "metadata": {
  "interpreter": {
   "hash": "17e3749a86f3ada9223fe17fe9475c10770b83f16bc57866631fe5eff1031820"
  },
  "kernelspec": {
   "display_name": "Python 3.9.16 64-bit (conda)",
   "language": "python",
   "name": "python3"
  },
  "language_info": {
   "codemirror_mode": {
    "name": "ipython",
    "version": 3
   },
   "file_extension": ".py",
   "mimetype": "text/x-python",
   "name": "python",
   "nbconvert_exporter": "python",
   "pygments_lexer": "ipython3",
   "version": "3.9.16"
  },
  "orig_nbformat": 4
 },
 "nbformat": 4,
 "nbformat_minor": 2
}
